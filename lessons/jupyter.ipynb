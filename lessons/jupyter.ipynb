{
 "cells": [
  {
   "cell_type": "markdown",
   "metadata": {},
   "source": [
    "##  Markup"
   ]
  },
  {
   "cell_type": "markdown",
   "metadata": {},
   "source": [
    "HTML is a valid subset of Markdown, so it's easy to include decorative and informational cell types:\n",
    "\n",
    "<div class=\"alert alert-warning\">\n",
    "    <strong>Warning!</strong> There was a problem with your network connection.\n",
    "</div>\n",
    "\n",
    "<div class=\"alert alert-danger fade in\">\n",
    "    <a href=\"#\" class=\"close\" data-dismiss=\"alert\">&times;</a>\n",
    "    <strong>Error!</strong> This box fades when closed.  (`x` at right.)\n",
    "</div>\n",
    "\n",
    "<div class=\"alert alert-success\">\n",
    "    <strong>Success!</strong> There was no problem with your network connection.\n",
    "</div>\n",
    "\n",
    "<div class=\"alert alert-info\">\n",
    "    <strong>Be aware!</strong> This is an informational example.\n",
    "</div>"
   ]
  },
  {
   "cell_type": "markdown",
   "metadata": {},
   "source": [
    "##  Interactive Widgets in Jupyter"
   ]
  },
  {
   "cell_type": "markdown",
   "metadata": {},
   "source": [
    "You can create and load variables and plots which update automatically based on sliders and input boxes using [`ipywidgets`](https://github.com/ipython/ipywidgets)."
   ]
  },
  {
   "cell_type": "code",
   "execution_count": null,
   "metadata": {
    "collapsed": false
   },
   "outputs": [],
   "source": [
    "!git clone https://github.com/ipython/ipywidgets.git"
   ]
  },
  {
   "cell_type": "code",
   "execution_count": null,
   "metadata": {
    "collapsed": false
   },
   "outputs": [],
   "source": [
    "from os import getcwd\n",
    "from IPython.display import FileLink, FileLinks\n",
    "print(getcwd())\n",
    "FileLinks('./ipywidgets/docs/source/examples/')"
   ]
  },
  {
   "cell_type": "markdown",
   "metadata": {
    "collapsed": false
   },
   "source": [
    "##  Notebook Themes"
   ]
  },
  {
   "cell_type": "markdown",
   "metadata": {},
   "source": [
    "Notebooks are browser pages, so they can be styled using CSS and Javascript.  This gets very complicated, particularly due to shortcomings of HTML, so it's easier to use a prepackaged themer like [`jupyter-themer`](https://github.com/transcranial/jupyter-themer)."
   ]
  },
  {
   "cell_type": "code",
   "execution_count": null,
   "metadata": {
    "collapsed": false
   },
   "outputs": [],
   "source": [
    "!jupyter-themer  -c xq-light  -t serif"
   ]
  },
  {
   "cell_type": "markdown",
   "metadata": {
    "collapsed": true
   },
   "source": [
    "Themes can be explored either directly or online at [CodeMirror](https://codemirror.net/demo/theme.html).  Some good ones for Jupyter include:\n",
    "\n",
    "    jupyter-themer -c ambiance\n",
    "    jupyter-themer -c elegant\n",
    "    jupyter-themer -c base16-light\n",
    "    jupyter-themer -c neat\n",
    "    jupyter-themer -c paraiso-light\n",
    "    jupyter-themer -c solarized\n",
    "    jupyter-themer -c ttcn\n",
    "    jupyter-themer -c xq-light\n",
    "    jupyter-themer -c yeti\n",
    "    jupyter-themer -c neo\n",
    "    jupyter-themer -c neat -t serif\n",
    "    jupyter-themer -c cobalt -t serif"
   ]
  },
  {
   "cell_type": "markdown",
   "metadata": {
    "collapsed": true
   },
   "source": [
    "##  Kernels"
   ]
  },
  {
   "cell_type": "markdown",
   "metadata": {},
   "source": [
    "Although originally composed for IPython, the Jupyter notebook can now use dozens of different languages as kernels.  Some examples are:\n",
    "\n",
    "|Name| Jupyter/IPython Version | Language(s) Version | 3rd party dependencies | Example Notebooks | Notes |\n",
    "|----|-------------------------|---------------------|------------------------|-------------------|-------|\n",
    "|[IPyKernel](https://github.com/ipython/ipykernel)|Jupyter 4.0|python 2.7, >= 3.3|pyzmq|||\n",
    "|[IJulia](https://github.com/JuliaLang/IJulia.jl)||julia >= 0.3||||\n",
    "|[IHaskell](https://github.com/gibiansky/IHaskell)||ghc >= 7.6||||\n",
    "|[IRuby](https://github.com/SciRuby/iruby)||ruby >= 2.1||||\n",
    "|[IJavascript](https://github.com/n-riesco/ijavascript)||nodejs >= 0.10||||\n",
    "|[ICSharp](https://github.com/zabirauf/icsharp)|Jupyter 4.0|C# 4.0+|scriptcs|||\n",
    "|[IRKernel](http://irkernel.github.io/)|IPython 3.0|R 3.2|rzmq|||\n",
    "|[SageMath](http://www.sagemath.org/)|Jupyter 4|Any|many|||\n",
    "|[IGo](https://github.com/takluyver/igo)||Go >= 1.4||||\n",
    "|[IPerl](https://metacpan.org/release/Devel-IPerl)||Perl 5||||\n",
    "|[IMatlab](https://github.com/calysto/matlab_kernel)|Jupyter|Matlab|pymatbridge|[Example](http://nbviewer.ipython.org/github/Calysto/matlab_kernel/blob/master/matlab_kernel.ipynb)|MetaKernel|\n",
    "|[Bash](https://github.com/takluyver/bash_kernel)|IPython >= 3|bash|||Wrapper|\n",
    "|[PowerShell](https://github.com/vors/jupyter-powershell)|IPython >= 3|Windows|||Wrapper, Based on Bash Kernel|\n",
    "|[Lua Kernel](https://github.com/neomantra/lua_ipython_kernel)||Lua||||\n",
    "|[cling](https://github.com/root-mirror/cling)|Jupyter 4|C++||[Example](https://github.com/root-mirror/cling/blob/master/tools/Jupyter/kernel/cling.ipynb)||\n",
    "|[Tcl](https://github.com/ryanpepper/tcl_kernel)|Jupyter|Tcl 8.5|||Based on Bash Kernel|\n",
    "\n",
    "The installation process is unique for each, so please check their home pages for more information.\n",
    "\n",
    "To open a new notebook using a different kernel, go to the main [Jupyter server page](http://localhost:8888/).  Select `New▾` and the kernel you wish to use."
   ]
  }
 ],
 "metadata": {
  "kernelspec": {
   "display_name": "IPython (Python 3)",
   "language": "python",
   "name": "python3"
  },
  "language_info": {
   "codemirror_mode": {
    "name": "ipython",
    "version": 3
   },
   "file_extension": ".py",
   "mimetype": "text/x-python",
   "name": "python",
   "nbconvert_exporter": "python",
   "pygments_lexer": "ipython3",
   "version": "3.4.4"
  }
 },
 "nbformat": 4,
 "nbformat_minor": 0
}
